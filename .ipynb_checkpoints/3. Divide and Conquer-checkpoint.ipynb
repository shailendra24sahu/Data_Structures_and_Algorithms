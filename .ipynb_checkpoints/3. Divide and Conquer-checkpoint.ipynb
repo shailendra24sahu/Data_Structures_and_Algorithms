{
 "cells": [
  {
   "cell_type": "code",
   "execution_count": null,
   "metadata": {},
   "outputs": [],
   "source": []
  },
  {
   "cell_type": "markdown",
   "metadata": {},
   "source": [
    "### finding of maxima and minima"
   ]
  },
  {
   "cell_type": "code",
   "execution_count": 1,
   "metadata": {},
   "outputs": [
    {
     "name": "stdout",
     "output_type": "stream",
     "text": [
      "Maximum and Minimum element in an array is: 100000 -2\n"
     ]
    }
   ],
   "source": [
    "## Using Divide and Conquer Approach\n",
    "## Time Complexity : O(n)\n",
    "## function definition\n",
    "def findMaxandMin(arr, i, j):\n",
    "    ## small problem \n",
    "    ## single element present in an array\n",
    "    if i == j:\n",
    "        max_val = arr[i]\n",
    "        min_val = arr[i]\n",
    "    ## two element present in an array\n",
    "    elif i == j - 1:\n",
    "        if arr[i] < arr[j]:\n",
    "            max_val = arr[j]\n",
    "            min_val = arr[i]\n",
    "        else:\n",
    "            max_val = arr[i]\n",
    "            min_val = arr[j]\n",
    "    ## big problem -> Divide and Conquer Approach\n",
    "    else:\n",
    "        ## Divide\n",
    "        mid = i + (j-i)//2\n",
    "        ## Recursion -> conquer\n",
    "        max_l, min_l = findMaxandMin(arr, i, mid)\n",
    "        max_r, min_r = findMaxandMin(arr, mid+1, j)\n",
    "        ## combine\n",
    "        ## to find the final max_val\n",
    "        if max_l < max_r:\n",
    "            max_val = max_r\n",
    "        else:\n",
    "            max_val = max_l\n",
    "        ## to find the final min_val\n",
    "        if min_l < min_r:\n",
    "            min_val = min_l\n",
    "        else:\n",
    "            min_val = min_r\n",
    "        \n",
    "    return max_val, min_val\n",
    "        \n",
    "## Driver code\n",
    "arr = [10, 70, 45, 16, 29, 30, 35, 20, 100000, -2]\n",
    "i = 0\n",
    "j = len(arr) - 1\n",
    "## function calling\n",
    "max_val, min_val = findMaxandMin(arr, i, j)\n",
    "print(\"Maximum and Minimum element in an array is:\", max_val, min_val)"
   ]
  },
  {
   "cell_type": "code",
   "execution_count": null,
   "metadata": {},
   "outputs": [],
   "source": []
  },
  {
   "cell_type": "markdown",
   "metadata": {},
   "source": [
    "### Finding of power of an element"
   ]
  },
  {
   "cell_type": "code",
   "execution_count": 2,
   "metadata": {},
   "outputs": [
    {
     "name": "stdout",
     "output_type": "stream",
     "text": [
      "The power of an element is: 4096\n"
     ]
    }
   ],
   "source": [
    "## Finding of power of an element when n >= 1\n",
    "## Assignment task: n <= 0\n",
    "## Time complexity : O(logn)\n",
    "## function definition\n",
    "def findPowerOfElement(a,n):\n",
    "    ## small problem\n",
    "    ## if n < 0:\n",
    "    ## if n == 0:\n",
    "    if n == 1:\n",
    "        return a\n",
    "    else:\n",
    "        ## big problem -> Divide and Conquer Approach\n",
    "        mid = n // 2\n",
    "        ## recursive call\n",
    "        b = findPowerOfElement(a,mid)\n",
    "        result = b * b\n",
    "        #even\n",
    "        if n % 2 == 0:\n",
    "            return result\n",
    "        return result * a\n",
    "\n",
    "## Driver code\n",
    "## n = -4\n",
    "a = 2\n",
    "n = 12\n",
    "## function calling\n",
    "result = findPowerOfElement(a,n)\n",
    "print(\"The power of an element is:\", result)"
   ]
  },
  {
   "cell_type": "code",
   "execution_count": 1,
   "metadata": {},
   "outputs": [
    {
     "name": "stdout",
     "output_type": "stream",
     "text": [
      "The power of an element is: 0.0625\n"
     ]
    }
   ],
   "source": [
    "## Finding power of an element\n",
    "## Assignment task: n <= 0\n",
    "## Time complexity : O(logn)\n",
    "## function definition\n",
    "def findPowerOfElement(a, n):\n",
    "    if n == 0:\n",
    "        return 1\n",
    "    elif n == 1:\n",
    "        return a\n",
    "    elif n > 1:\n",
    "        ## big problem -> Divide and Conquer Approach\n",
    "        b = findPowerOfElement(a, n // 2)\n",
    "        result = b * b\n",
    "        if n % 2 == 0:\n",
    "            return result\n",
    "        return result * a\n",
    "    else:\n",
    "        n = -n  # Make n positive since we're dealing with the reciprocal, here it is -(-n) = n\n",
    "        b = findPowerOfElement(1 / a, n // 2)\n",
    "        result = b * b\n",
    "        if n % 2 == 0:\n",
    "            return result\n",
    "        return result * (1 / a)\n",
    "\n",
    "## Driver code\n",
    "n = -4\n",
    "a = 2\n",
    "## function calling\n",
    "result = findPowerOfElement(a, n)\n",
    "print(\"The power of an element is:\", result)\n"
   ]
  },
  {
   "cell_type": "code",
   "execution_count": 3,
   "metadata": {},
   "outputs": [
    {
     "data": {
      "text/plain": [
       "0.0625"
      ]
     },
     "execution_count": 3,
     "metadata": {},
     "output_type": "execute_result"
    }
   ],
   "source": [
    "(1/2)**4"
   ]
  },
  {
   "cell_type": "code",
   "execution_count": null,
   "metadata": {},
   "outputs": [],
   "source": []
  },
  {
   "cell_type": "markdown",
   "metadata": {},
   "source": [
    "### Applications of Divide and Conquer - Implementation of Merge Sort"
   ]
  },
  {
   "cell_type": "code",
   "execution_count": 1,
   "metadata": {},
   "outputs": [
    {
     "name": "stdout",
     "output_type": "stream",
     "text": [
      "Sorted array after applying the merge sort is: [13, 27, 50, 62, 65, 70, 80, 98]\n"
     ]
    }
   ],
   "source": [
    "## Implementation of Merge Sort\n",
    "## function definition of merge Procedure\n",
    "## n1+n2 = N \n",
    "## MergeProcedure time complexity = O(N)\n",
    "def mergeProcedure(arr, i, mid, j):\n",
    "    ## n1-> number of elements in the left subarray(i, mid)\n",
    "    n1 = mid - i + 1\n",
    "    ## n2 -> number of elements in the right subarray(mid+1, j)\n",
    "    n2 = j - mid\n",
    "    \n",
    "    ## intialization of left and right subarray\n",
    "    leftSubarray = [0] * n1\n",
    "    rightSubarray = [0] * n2\n",
    "    \n",
    "    ## copy the elements from an array to the subarrays\n",
    "    for m in range(n1):\n",
    "        leftSubarray[m] = arr[i + m]\n",
    "    \n",
    "    for n in range(n2):\n",
    "        rightSubarray[n] = arr[mid + 1 + n]\n",
    "    \n",
    "    p = 0\n",
    "    q = 0\n",
    "    k = i\n",
    "    ## returning a sorted subarray\n",
    "    while p < n1 and q < n2:\n",
    "        if leftSubarray[p] <= rightSubarray[q]:\n",
    "            arr[k] = leftSubarray[p]\n",
    "            p += 1\n",
    "        else:\n",
    "            arr[k] = rightSubarray[q]\n",
    "            q += 1\n",
    "        k += 1\n",
    "    \n",
    "    ## copy the entire elements from the left subarray\n",
    "    while p < n1:\n",
    "        arr[k] = leftSubarray[p]\n",
    "        p += 1\n",
    "        k += 1\n",
    "    \n",
    "    ## copy the entire elements from the right subarray\n",
    "    while q < n2:\n",
    "        arr[k] = rightSubarray[q]\n",
    "        q += 1\n",
    "        k += 1\n",
    "\n",
    "## function definition of merge sort\n",
    "## Approach -> Divide and Conquer\n",
    "## Recurrence Relation -> 2T(N/2) + N\n",
    "## Time complexity -> O(NlogN)\n",
    "def mergeSort(arr, i, j):\n",
    "    if i < j:\n",
    "        ## Divide\n",
    "        mid = i + (j-i)//2\n",
    "        ## Conquer\n",
    "        ## recursive call -> left subtree\n",
    "        mergeSort(arr, i, mid)\n",
    "        ## recursive call -> right subtree\n",
    "        mergeSort(arr, mid+1, j)\n",
    "        ## Combine -> mergeProcedure(function calling)\n",
    "        mergeProcedure(arr, i, mid, j)\n",
    "    return arr\n",
    "\n",
    "\n",
    "## Driver code\n",
    "arr = [50, 70, 65, 13, 80, 62, 98, 27]\n",
    "i = 0\n",
    "j = len(arr) - 1\n",
    "## function calling\n",
    "result = mergeSort(arr, i, j)\n",
    "print(\"Sorted array after applying the merge sort is:\", result)"
   ]
  },
  {
   "cell_type": "code",
   "execution_count": null,
   "metadata": {},
   "outputs": [],
   "source": []
  },
  {
   "cell_type": "markdown",
   "metadata": {},
   "source": [
    "### Applications of Divide and Conquer - Implementation of Quick Sort"
   ]
  },
  {
   "cell_type": "code",
   "execution_count": 2,
   "metadata": {},
   "outputs": [
    {
     "name": "stdout",
     "output_type": "stream",
     "text": [
      "Sorted array after applying the quickSort is: [5, 10, 20, 34, 50, 70, 89]\n"
     ]
    }
   ],
   "source": [
    "## Implementation using the quickSort algorithm\n",
    "## Recurrence Relation -> T(n) = T(m-p) + T(q-m) + n\n",
    "## Best Case Scenario -> T(n) = T(n/2) + T(n/2) + n => O(n logn)\n",
    "## Worst Case Scenario -> T(n) = T(n-1) + n => O(n^2)\n",
    "## function definition of partition algorithm -> O(n)\n",
    "def partition(arr, p, q):\n",
    "    i = p\n",
    "    ## starting element as a pivot element\n",
    "    pivot = arr[p]\n",
    "    for j in range(i+1, q+1):\n",
    "        if arr[j] <= pivot:\n",
    "            i += 1\n",
    "            ## swap between the arr[i] and arr[j]\n",
    "            arr[i], arr[j] = arr[j], arr[i]\n",
    "    ## swap between the arr[i] and the pivot element\n",
    "    arr[i], arr[p] = arr[p], arr[i]\n",
    "    return i\n",
    "\n",
    "## function definition of quickSort\n",
    "def quickSort(arr, p, q):\n",
    "    if p < q:\n",
    "        ## function calling for partition algorithm\n",
    "        mid = partition(arr, p, q)\n",
    "        ## recursive call for left subtree\n",
    "        ## T(mid-p)\n",
    "        quickSort(arr, p, mid-1)\n",
    "        ## recursive call for right subtree\n",
    "        ## T(q-mid)\n",
    "        quickSort(arr, mid+1, q)\n",
    "    return arr\n",
    "\n",
    "## Driver code\n",
    "arr = [20, 10, 5, 70, 50, 89, 34]\n",
    "p = 0\n",
    "q = len(arr) - 1\n",
    "## function calling\n",
    "result = quickSort(arr, p, q)\n",
    "print(\"Sorted array after applying the quickSort is:\", result)"
   ]
  },
  {
   "cell_type": "code",
   "execution_count": null,
   "metadata": {},
   "outputs": [],
   "source": []
  },
  {
   "cell_type": "markdown",
   "metadata": {},
   "source": [
    "### Applications of Divide and Conquer - Randomized QuickSort"
   ]
  },
  {
   "cell_type": "code",
   "execution_count": 3,
   "metadata": {},
   "outputs": [
    {
     "name": "stdout",
     "output_type": "stream",
     "text": [
      "Sorted array after applying the quickSort is: [5, 10, 20, 34, 50, 70, 89]\n"
     ]
    }
   ],
   "source": [
    "## Implementation using the quickSort algorithm\n",
    "## Recurrence Relation -> T(n) = T(m-p) + T(q-m) + n\n",
    "## Best Case Scenario -> T(n) = T(n/2) + T(n/2) + n => O(n logn)\n",
    "## Worst Case Scenario -> T(n) = T(n-1) + n => O(n^2)\n",
    "## function definition of partition algorithm -> O(n)\n",
    "def partition(arr, p, q):\n",
    "    i = p\n",
    "    ## starting element as a pivot element\n",
    "    pivot = arr[p]\n",
    "    for j in range(i+1, q+1):\n",
    "        if arr[j] <= pivot:\n",
    "            i += 1\n",
    "            ## swap between the arr[i] and arr[j]\n",
    "            arr[i], arr[j] = arr[j], arr[i]\n",
    "    ## swap between the arr[i] and the pivot element\n",
    "    arr[i], arr[p] = arr[p], arr[i]\n",
    "    return i\n",
    "\n",
    "## function definition of quickSort\n",
    "def quickSort(arr, p, q):\n",
    "    if p < q:\n",
    "        ## function calling for partition algorithm\n",
    "        mid = partition(arr, p, q)\n",
    "        ## recursive call for left subtree\n",
    "        ## T(mid-p)\n",
    "        quickSort(arr, p, mid-1)\n",
    "        ## recursive call for right subtree\n",
    "        ## T(q-mid)\n",
    "        quickSort(arr, mid+1, q)\n",
    "    return arr\n",
    "\n",
    "## Driver code\n",
    "arr = [20, 10, 5, 70, 50, 89, 34]\n",
    "p = 0\n",
    "q = len(arr) - 1\n",
    "## function calling\n",
    "result = quickSort(arr, p, q)\n",
    "print(\"Sorted array after applying the quickSort is:\", result)"
   ]
  },
  {
   "cell_type": "code",
   "execution_count": 4,
   "metadata": {},
   "outputs": [
    {
     "name": "stdout",
     "output_type": "stream",
     "text": [
      "Sorted array after applying the quickSort is: [5, 10, 20, 34, 50, 70, 89]\n"
     ]
    }
   ],
   "source": [
    "## Implementation using the randomized quickSort algorithm\n",
    "## Recurrence Relation -> T(n) = T(m-p) + T(q-m) + n\n",
    "## Best Case Scenario -> T(n) = T(n/2) + T(n/2) + n => O(n logn)\n",
    "## Worst Case Scenario -> T(n) = T(n-1) + n => O(n^2)\n",
    "\n",
    "import random\n",
    "\n",
    "## function definition of randomizedParition\n",
    "## pivot element is randomly calculating using random function\n",
    "def randomizedPartition(arr, p, q):\n",
    "    random_pivot = random.randrange(p,q)\n",
    "    ## swap between the arr[random_pivot] and arr[p]\n",
    "    arr[p], arr[random_pivot] = arr[random_pivot], arr[p]\n",
    "    ## function call\n",
    "    return partition(arr, p, q)\n",
    "\n",
    "## function definition of partition algorithm -> O(n)\n",
    "def partition(arr, p, q):\n",
    "    i = p\n",
    "    ## starting element as a pivot element\n",
    "    pivot = arr[p]\n",
    "    for j in range(i+1, q+1):\n",
    "        if arr[j] <= pivot:\n",
    "            i += 1\n",
    "            ## swap between the arr[i] and arr[j]\n",
    "            arr[i], arr[j] = arr[j], arr[i]\n",
    "    ## swap between the arr[i] and the pivot element\n",
    "    arr[i], arr[p] = arr[p], arr[i]\n",
    "    return i\n",
    "\n",
    "## function definition of quickSort\n",
    "def quickSort(arr, p, q):\n",
    "    if p < q:\n",
    "        ## function calling for partition algorithm\n",
    "        mid = randomizedPartition(arr, p, q)\n",
    "        ## recursive call for left subtree\n",
    "        ## T(mid-p)\n",
    "        quickSort(arr, p, mid-1)\n",
    "        ## recursive call for right subtree\n",
    "        ## T(q-mid)\n",
    "        quickSort(arr, mid+1, q)\n",
    "    return arr\n",
    "\n",
    "## Driver code\n",
    "arr = [20, 10, 5, 70, 50, 89, 34]\n",
    "p = 0\n",
    "q = len(arr) - 1\n",
    "## function calling\n",
    "result = quickSort(arr, p, q)\n",
    "print(\"Sorted array after applying the quickSort is:\", result)"
   ]
  },
  {
   "cell_type": "code",
   "execution_count": 5,
   "metadata": {},
   "outputs": [
    {
     "ename": "",
     "evalue": "",
     "output_type": "error",
     "traceback": [
      "\u001b[1;31mCannot execute code, session has been disposed. Please try restarting the Kernel."
     ]
    },
    {
     "ename": "",
     "evalue": "",
     "output_type": "error",
     "traceback": [
      "\u001b[1;31mThe Kernel crashed while executing code in the the current cell or a previous cell. Please review the code in the cell(s) to identify a possible cause of the failure. Click <a href='https://aka.ms/vscodeJupyterKernelCrash'>here</a> for more info. View Jupyter <a href='command:jupyter.viewOutput'>log</a> for further details."
     ]
    }
   ],
   "source": [
    "## Implementation using the randomized quickSort algorithm\n",
    "## Recurrence Relation -> T(n) = T(m-p) + T(q-m) + n\n",
    "## Best Case Scenario -> T(n) = T(n/2) + T(n/2) + n => O(n logn)\n",
    "## Worst Case Scenario -> T(n) = T(n-1) + n => O(n^2)\n",
    "\n",
    "import random\n",
    "\n",
    "## function definition of randomizedParition\n",
    "## pivot element is randomly calculating using random function\n",
    "def randomizedPartition(arr, p, q):\n",
    "    random_pivot = random.randrange(p,q)\n",
    "    ## swap between the arr[random_pivot] and arr[p]\n",
    "    arr[p], arr[random_pivot] = arr[random_pivot], arr[p]\n",
    "    ## function call\n",
    "    return randomizedPartition(arr, p, q)\n",
    "\n",
    "\n",
    "\n",
    "## function definition of quickSort\n",
    "def quickSort(arr, p, q):\n",
    "    if p < q:\n",
    "        ## function calling for partition algorithm\n",
    "        mid = randomizedPartition(arr, p, q)\n",
    "        ## recursive call for left subtree\n",
    "        ## T(mid-p)\n",
    "        quickSort(arr, p, mid-1)\n",
    "        ## recursive call for right subtree\n",
    "        ## T(q-mid)\n",
    "        quickSort(arr, mid+1, q)\n",
    "    return arr\n",
    "\n",
    "## Driver code\n",
    "arr = [20, 10, 5, 70, 50, 89, 34]\n",
    "p = 0\n",
    "q = len(arr) - 1\n",
    "## function calling\n",
    "result = quickSort(arr, p, q)\n",
    "print(\"Sorted array after applying the quickSort is:\", result)"
   ]
  },
  {
   "cell_type": "code",
   "execution_count": null,
   "metadata": {},
   "outputs": [],
   "source": []
  },
  {
   "cell_type": "markdown",
   "metadata": {},
   "source": [
    "### Implementation of Selection Procedure"
   ]
  },
  {
   "cell_type": "code",
   "execution_count": 1,
   "metadata": {},
   "outputs": [
    {
     "name": "stdout",
     "output_type": "stream",
     "text": [
      "kth smallest element in an array is 20\n"
     ]
    }
   ],
   "source": [
    "## Implementation of selection procedure\n",
    "## function definition of partition\n",
    "def partition(arr, p, q):\n",
    "    i = p\n",
    "    pivot = arr[p]\n",
    "    for j in range(i+1, q+1):\n",
    "        if arr[j] <= pivot:\n",
    "            i += 1\n",
    "            arr[i], arr[j] = arr[j], arr[i]\n",
    "    arr[i], arr[p] = arr[p], arr[i]\n",
    "    return i+1\n",
    "\n",
    "\n",
    "## function definition of selectionProcedure\n",
    "def selectionProcedure(arr, p, q, k):\n",
    "    if len(arr) == 1:\n",
    "        return arr[p]\n",
    "    else:\n",
    "        ## function calling of partition function\n",
    "        m = partition(arr, p, q)   # m will give us the position of the pivot element\n",
    "        if m == k:\n",
    "            return arr[m-1]\n",
    "        elif m < k:\n",
    "            ## recursive call -> right side of the pivot element \n",
    "            return selectionProcedure(arr, m, q, k)\n",
    "        else:\n",
    "            ## recursive call -> left side of the pivot element\n",
    "            return selectionProcedure(arr, p, m-2, k)\n",
    "\n",
    "## Driver code\n",
    "arr = [20, 70, 50, 48, 98, 12, 10, 43]\n",
    "k = 3\n",
    "## [10, 12, 20, 43, 48, 50, 70, 98]\n",
    "## [1, 2, 3, 4, 5, 6, 7, 8]\n",
    "p = 0\n",
    "q = len(arr) - 1\n",
    "## function calling\n",
    "result = selectionProcedure(arr, p, q, k)\n",
    "print(\"kth smallest element in an array is\", result)"
   ]
  },
  {
   "cell_type": "code",
   "execution_count": null,
   "metadata": {},
   "outputs": [],
   "source": []
  },
  {
   "cell_type": "markdown",
   "metadata": {},
   "source": [
    "### Factorial Finding using Recursion with its Implementation"
   ]
  },
  {
   "cell_type": "code",
   "execution_count": 2,
   "metadata": {},
   "outputs": [
    {
     "name": "stdout",
     "output_type": "stream",
     "text": [
      "The factorial of a given number is: 40320\n"
     ]
    }
   ],
   "source": [
    "## Using the recursive approach\n",
    "## function definition\n",
    "## time complexity: O(n)\n",
    "def findFactorial(n):\n",
    "    ## base case condition\n",
    "    ## small problem\n",
    "    if n == 0 or n == 1:\n",
    "        return 1\n",
    "    else:\n",
    "        ## big problem\n",
    "        ## recursion \n",
    "        return n * findFactorial(n-1)\n",
    "\n",
    "\n",
    "## Driver code\n",
    "n = 8\n",
    "## function calling\n",
    "result = findFactorial(n)\n",
    "print(\"The factorial of a given number is:\", result)"
   ]
  },
  {
   "cell_type": "code",
   "execution_count": 3,
   "metadata": {},
   "outputs": [
    {
     "name": "stdout",
     "output_type": "stream",
     "text": [
      "The factorial of a given number is: 40320\n"
     ]
    }
   ],
   "source": [
    "## Using the iterative approach\n",
    "## function definition\n",
    "## time complexity: O(n)\n",
    "def findFactorial(n):\n",
    "    result = 1\n",
    "    if n == 0 or n == 1:\n",
    "        return 1\n",
    "    else:\n",
    "        ## iterative approach\n",
    "        for i in range(2, n+1):\n",
    "            result = result * i\n",
    "        return result\n",
    "\n",
    "\n",
    "## Driver code\n",
    "n = 8\n",
    "## function calling\n",
    "result = findFactorial(n)\n",
    "print(\"The factorial of a given number is:\", result)"
   ]
  }
 ],
 "metadata": {
  "kernelspec": {
   "display_name": "Python 3 (ipykernel)",
   "language": "python",
   "name": "python3"
  },
  "language_info": {
   "codemirror_mode": {
    "name": "ipython",
    "version": 3
   },
   "file_extension": ".py",
   "mimetype": "text/x-python",
   "name": "python",
   "nbconvert_exporter": "python",
   "pygments_lexer": "ipython3",
   "version": "3.10.9"
  }
 },
 "nbformat": 4,
 "nbformat_minor": 2
}
