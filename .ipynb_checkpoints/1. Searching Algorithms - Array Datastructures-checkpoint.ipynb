{
 "cells": [
  {
   "cell_type": "code",
   "execution_count": null,
   "metadata": {},
   "outputs": [],
   "source": []
  },
  {
   "cell_type": "markdown",
   "metadata": {},
   "source": [
    "### Linear Search"
   ]
  },
  {
   "cell_type": "code",
   "execution_count": 1,
   "metadata": {},
   "outputs": [
    {
     "name": "stdout",
     "output_type": "stream",
     "text": [
      "Searching element is present at the index 5\n"
     ]
    }
   ],
   "source": [
    "## Search for an element \"15\" and if it's present in an array, return the index of that element\n",
    "## Suppose the searching element is not present in an array, return -1\n",
    "## Time complexity : O(n)\n",
    "## Space complexity: O(1)\n",
    "## Function definition\n",
    "def linearSearch(arr, x):\n",
    "    for i in range(len(arr)):\n",
    "        if arr[i] == x:\n",
    "            return i\n",
    "    return -1\n",
    "\n",
    "## Driver code\n",
    "arr = [2, 1, 8, 9, 12, 15, 11, 19]\n",
    "x = 15\n",
    "## Function calling\n",
    "result = linearSearch(arr, x)\n",
    "print(\"Searching element is present at the index\", result)"
   ]
  },
  {
   "cell_type": "markdown",
   "metadata": {},
   "source": []
  },
  {
   "cell_type": "markdown",
   "metadata": {},
   "source": [
    "### Binary Search"
   ]
  },
  {
   "cell_type": "code",
   "execution_count": 2,
   "metadata": {},
   "outputs": [
    {
     "name": "stdout",
     "output_type": "stream",
     "text": [
      "Searching element is present at the index 2\n"
     ]
    }
   ],
   "source": [
    "## Implementation of Binary Search using recursion\n",
    "## Function Definition\n",
    "## Time complexity : O(logn)\n",
    "def binarySearch(arr, i, j, x):\n",
    "    while i <= j:\n",
    "        mid = i + (j-i)//2\n",
    "        if arr[mid] == x:\n",
    "            return mid\n",
    "        elif arr[mid] < x:\n",
    "            ## recusion-> calling the same function again \n",
    "            ## with different set of parameters\n",
    "            return binarySearch(arr, mid+1, j, x)\n",
    "        else:\n",
    "            return binarySearch(arr, i, mid-1, x)\n",
    "    ## Searching element is not present in the array\n",
    "    return -1\n",
    "\n",
    "## Driver code\n",
    "## Sorted array\n",
    "arr = [2, 5, 10, 14, 18, 22, 27, 35, 40, 59]\n",
    "x = 10\n",
    "i = 0\n",
    "j = len(arr) - 1\n",
    "## Function call\n",
    "result = binarySearch(arr, i, j, x)\n",
    "print(\"Searching element is present at the index\", result)"
   ]
  },
  {
   "cell_type": "code",
   "execution_count": 3,
   "metadata": {},
   "outputs": [
    {
     "name": "stdout",
     "output_type": "stream",
     "text": [
      "Searching element is present at the index -1\n"
     ]
    }
   ],
   "source": [
    "## Implementation of Binary Search without using recursion\n",
    "## Function Definition\n",
    "def binarySearch(arr, i, j, x):\n",
    "    while i <= j:\n",
    "        mid = i + (j-i)//2\n",
    "        if arr[mid] == x:\n",
    "            return mid\n",
    "        elif arr[mid] < x:\n",
    "            ## update the i parameter\n",
    "            i = mid+1\n",
    "        else:\n",
    "            ## update the j parameter\n",
    "            j = mid-1\n",
    "    ## Searching element is not present in the array\n",
    "    return -1\n",
    "\n",
    "## Driver code\n",
    "## Sorted array\n",
    "arr = [2, 5, 10, 14, 18, 22, 27, 35, 40, 59]\n",
    "x = 20\n",
    "i = 0\n",
    "j = len(arr) - 1\n",
    "## Function call\n",
    "result = binarySearch(arr, i, j, x)\n",
    "print(\"Searching element is present at the index\", result)"
   ]
  },
  {
   "cell_type": "markdown",
   "metadata": {},
   "source": []
  },
  {
   "cell_type": "markdown",
   "metadata": {},
   "source": [
    "### Q. Write an algorithm to find out the first infinity in this array - [20,-30,10,5,7,0,29,inf,inf,inf,inf]"
   ]
  },
  {
   "cell_type": "code",
   "execution_count": 4,
   "metadata": {},
   "outputs": [
    {
     "name": "stdout",
     "output_type": "stream",
     "text": [
      "Index of the first infinity: 7\n"
     ]
    }
   ],
   "source": [
    "def binary_search_for_infinity(arr):\n",
    "    left, right = 0, len(arr) - 1\n",
    "\n",
    "    while left <= right:\n",
    "        mid = left + (right - left) // 2\n",
    "\n",
    "        # If the middle element is infinity, check if it's the first occurrence\n",
    "        if arr[mid] == float('inf'):\n",
    "            # If the element before mid is not infinity or mid is the first element, then mid is the first infinity\n",
    "            if mid == 0 or arr[mid - 1] != float('inf'):\n",
    "                return mid\n",
    "\n",
    "            # Search the left half to find the first occurrence\n",
    "            right = mid - 1\n",
    "        elif arr[mid] < float('inf'):\n",
    "            # If the middle element is less than infinity, search the right half\n",
    "            left = mid + 1\n",
    "        else:\n",
    "            # If the middle element is greater than infinity, search the left half\n",
    "            right = mid - 1\n",
    "\n",
    "    # If no infinity found, return -1 to indicate that it's not present in the array\n",
    "    return -1\n",
    "\n",
    "# Example usage:\n",
    "array = [20, -30, 10, 5, 7, 0, 29, float('inf'), float('inf'), float('inf'), float('inf')]\n",
    "result = binary_search_for_infinity(array)\n",
    "print(\"Index of the first infinity:\", result)\n"
   ]
  },
  {
   "cell_type": "code",
   "execution_count": null,
   "metadata": {},
   "outputs": [],
   "source": []
  },
  {
   "cell_type": "markdown",
   "metadata": {},
   "source": [
    "### Search a 2D Matrix"
   ]
  },
  {
   "cell_type": "code",
   "execution_count": 5,
   "metadata": {},
   "outputs": [
    {
     "name": "stdout",
     "output_type": "stream",
     "text": [
      "True\n"
     ]
    }
   ],
   "source": [
    "## function definition\n",
    "def searchSortedMatrix(matrix, target):\n",
    "    ## number of rows\n",
    "    m = len(matrix)\n",
    "    if m == 0:\n",
    "        return False\n",
    "    ## number of columns\n",
    "    n = len(matrix[0])\n",
    "    \n",
    "    ## binary search implementation\n",
    "    left, right = 0, m*n-1\n",
    "    while left <= right:\n",
    "        mid = left + (right - left)//2\n",
    "        ## extracting the elements from the 2D array\n",
    "        ## row_number = idx // n\n",
    "        ## column_number = idx % n\n",
    "        mid_element = matrix[mid//n][mid%n]\n",
    "        if target == mid_element:\n",
    "            return True\n",
    "        elif target < mid_element:\n",
    "            right = mid - 1\n",
    "        else:\n",
    "            left = mid + 1\n",
    "    return False\n",
    "\n",
    "## Driver code\n",
    "matrix = [[1,3,5,7], [10,11,16,20],[23,30,34,60]]\n",
    "target = 11\n",
    "## function calling\n",
    "result = searchSortedMatrix(matrix, target)\n",
    "print(result)"
   ]
  },
  {
   "cell_type": "markdown",
   "metadata": {},
   "source": [
    "### write an algorithm to find a target value in a 2d matrix and return [row,column] of that value"
   ]
  },
  {
   "cell_type": "code",
   "execution_count": 5,
   "metadata": {},
   "outputs": [
    {
     "name": "stdout",
     "output_type": "stream",
     "text": [
      "[2, 0]\n"
     ]
    }
   ],
   "source": [
    "def search_matrix(matrix, target):\n",
    "    if not matrix or not matrix[0]:\n",
    "        return None\n",
    "    \n",
    "    rows, cols = len(matrix), len(matrix[0])\n",
    "    row, col = 0, cols - 1\n",
    "    \n",
    "    while row < rows and col >= 0:\n",
    "        if matrix[row][col] == target:\n",
    "            return [row, col]\n",
    "        elif matrix[row][col] < target:\n",
    "            row += 1\n",
    "        else:\n",
    "            col -= 1\n",
    "    \n",
    "    return None\n",
    "\n",
    "# Example usage\n",
    "matrix = [[1,3,5,7], [10,11,16,20],[23,30,34,60]]\n",
    "target = 23\n",
    "## function calling\n",
    "result = search_matrix(matrix, target)\n",
    "print(result)"
   ]
  },
  {
   "cell_type": "code",
   "execution_count": null,
   "metadata": {},
   "outputs": [],
   "source": []
  },
  {
   "cell_type": "markdown",
   "metadata": {},
   "source": [
    "### Ternary Search\n"
   ]
  },
  {
   "cell_type": "code",
   "execution_count": 7,
   "metadata": {},
   "outputs": [
    {
     "name": "stdout",
     "output_type": "stream",
     "text": [
      "Searching element is present at index: 1\n"
     ]
    }
   ],
   "source": [
    "## Implementation of ternary search\n",
    "## Recurrence Relation: T(n) = t(n/3) + c\n",
    "## function definition\n",
    "def ternarySearch(l, r, x, arr):\n",
    "    while l <= r:\n",
    "        mid1 = l + (r-l)//3\n",
    "        mid2 = r - (r-l)//3\n",
    "        \n",
    "        if x == arr[mid1]:\n",
    "            return mid1\n",
    "        elif x == arr[mid2]:\n",
    "            return mid2\n",
    "        ## first search space\n",
    "        elif x < arr[mid1]:\n",
    "            return ternarySearch(l, mid1-1, x, arr)\n",
    "        ## third search space\n",
    "        elif x > arr[mid2]:\n",
    "            return ternarySearch(mid2+1, r, x, arr)\n",
    "        ## second search space\n",
    "        else:\n",
    "            return ternarySearch(mid1+1, mid2-1, x, arr)\n",
    "    return -1\n",
    "\n",
    "## Driver code\n",
    "arr = [1, 2, 3, 4, 5, 6, 7, 8, 9, 10]\n",
    "l = 0\n",
    "r = len(arr) - 1\n",
    "x = 2\n",
    "## function calling\n",
    "result = ternarySearch(l, r, x, arr)\n",
    "print(\"Searching element is present at index:\", result)"
   ]
  }
 ],
 "metadata": {
  "kernelspec": {
   "display_name": "Python 3 (ipykernel)",
   "language": "python",
   "name": "python3"
  },
  "language_info": {
   "codemirror_mode": {
    "name": "ipython",
    "version": 3
   },
   "file_extension": ".py",
   "mimetype": "text/x-python",
   "name": "python",
   "nbconvert_exporter": "python",
   "pygments_lexer": "ipython3",
   "version": "3.10.9"
  }
 },
 "nbformat": 4,
 "nbformat_minor": 2
}
