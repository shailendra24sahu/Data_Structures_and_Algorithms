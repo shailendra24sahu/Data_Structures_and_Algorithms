{
 "cells": [
  {
   "cell_type": "markdown",
   "metadata": {},
   "source": []
  },
  {
   "cell_type": "markdown",
   "metadata": {},
   "source": [
    "### 2.1 Insertion of a node in Linked List - Front"
   ]
  },
  {
   "cell_type": "code",
   "execution_count": 1,
   "metadata": {},
   "outputs": [
    {
     "name": "stdout",
     "output_type": "stream",
     "text": [
      "10  9  8  12  "
     ]
    }
   ],
   "source": [
    "class Node:\n",
    "    def __init__(self, data):\n",
    "        self.data = data\n",
    "        self.next = None\n",
    "\n",
    "class LinkedList:\n",
    "    def __init__(self):\n",
    "        self.head = None\n",
    "    \n",
    "    ## insert at the front/beginning of the linked list\n",
    "    def insertAtBeginning(self, new_data):\n",
    "        ## creation of the new node\n",
    "        new_node = Node(new_data)\n",
    "        ## insertion at the beginning\n",
    "        new_node.next = self.head\n",
    "        self.head = new_node\n",
    "    \n",
    "    ## print the linked list\n",
    "    def printList(self):\n",
    "        temp = self.head\n",
    "        while temp:\n",
    "            print(str(temp.data)+\" \",end=\" \")\n",
    "            temp = temp.next\n",
    "\n",
    "## Driver code\n",
    "llist = LinkedList()\n",
    "## function calling\n",
    "llist.insertAtBeginning(12)\n",
    "llist.insertAtBeginning(8)\n",
    "llist.insertAtBeginning(9)\n",
    "llist.insertAtBeginning(10)\n",
    "llist.printList()"
   ]
  },
  {
   "cell_type": "code",
   "execution_count": null,
   "metadata": {},
   "outputs": [],
   "source": []
  },
  {
   "cell_type": "markdown",
   "metadata": {},
   "source": [
    "### 2.2.1 Insertion of a node in Linked List - End"
   ]
  },
  {
   "cell_type": "code",
   "execution_count": 2,
   "metadata": {},
   "outputs": [
    {
     "name": "stdout",
     "output_type": "stream",
     "text": [
      "12  8  9  10  "
     ]
    }
   ],
   "source": [
    "class Node:\n",
    "    def __init__(self, data):\n",
    "        self.data = data\n",
    "        self.next = None\n",
    "\n",
    "class LinkedList:\n",
    "    def __init__(self):\n",
    "        self.head = None\n",
    "    \n",
    "    ## insert at the front/beginning of the linked list\n",
    "    def insertAtEnd(self, new_data):\n",
    "        ## creation of the new node\n",
    "        new_node = Node(new_data)\n",
    "        \n",
    "        ## linked list is empty\n",
    "        if self.head is None:\n",
    "            self.head = new_node\n",
    "            return\n",
    "        \n",
    "        ## insertion at the end\n",
    "        temp = self.head\n",
    "        while temp.next:\n",
    "            temp = temp.next\n",
    "        \n",
    "        temp.next = new_node\n",
    "    \n",
    "    ## print the linked list\n",
    "    def printList(self):\n",
    "        temp = self.head\n",
    "        while temp:\n",
    "            print(str(temp.data)+\" \",end=\" \")\n",
    "            temp = temp.next\n",
    "\n",
    "## Driver code\n",
    "llist = LinkedList()\n",
    "## function calling\n",
    "llist.insertAtEnd(12)\n",
    "llist.insertAtEnd(8)\n",
    "llist.insertAtEnd(9)\n",
    "llist.insertAtEnd(10)\n",
    "llist.printList()"
   ]
  },
  {
   "cell_type": "code",
   "execution_count": null,
   "metadata": {},
   "outputs": [],
   "source": []
  },
  {
   "cell_type": "markdown",
   "metadata": {},
   "source": [
    "### Insertion of a node in Linked List - After a given node"
   ]
  },
  {
   "cell_type": "code",
   "execution_count": 1,
   "metadata": {},
   "outputs": [
    {
     "name": "stdout",
     "output_type": "stream",
     "text": [
      "Original Linked List\n",
      "12  8  9  10  16  14  \n",
      "Insertion after any node\n",
      "12  8  23  9  10  16  14  "
     ]
    }
   ],
   "source": [
    "class Node:\n",
    "    def __init__(self, data):\n",
    "        self.data = data\n",
    "        self.next = None\n",
    "\n",
    "class LinkedList:\n",
    "    def __init__(self):\n",
    "        self.head = None\n",
    "        \n",
    "     ## insert at the ending of the linked list\n",
    "    def insertAtEnd(self, new_data):\n",
    "        ## creation of the new node\n",
    "        new_node = Node(new_data)\n",
    "        \n",
    "        ## linked list is empty\n",
    "        if self.head is None:\n",
    "            self.head = new_node\n",
    "            return\n",
    "        \n",
    "        ## insertion at the end\n",
    "        temp = self.head\n",
    "        while temp.next:\n",
    "            temp = temp.next\n",
    "        \n",
    "        temp.next = new_node\n",
    "    \n",
    "    ##insertion after the node in the linked list\n",
    "    def insertAfterNode(self, prev_node, new_data):\n",
    "        if prev_node is None:\n",
    "            print(\"Given node must be available inside the linked list\")\n",
    "            return\n",
    "        new_node = Node(new_data)\n",
    "        new_node.next = prev_node.next\n",
    "        prev_node.next = new_node\n",
    "    \n",
    "    \n",
    "    ## print the linked list\n",
    "    def printList(self):\n",
    "        temp = self.head\n",
    "        while temp:\n",
    "            print(str(temp.data)+\" \",end=\" \")\n",
    "            temp = temp.next\n",
    "   \n",
    "    \n",
    "## Driver code\n",
    "llist = LinkedList()\n",
    "## function calling\n",
    "llist.insertAtEnd(12)\n",
    "llist.insertAtEnd(8)\n",
    "llist.insertAtEnd(9)\n",
    "llist.insertAtEnd(10)\n",
    "llist.insertAtEnd(16)\n",
    "llist.insertAtEnd(14)\n",
    "print(\"Original Linked List\")\n",
    "llist.printList()\n",
    "print()\n",
    "llist.insertAfterNode(llist.head.next, 23)\n",
    "print(\"Insertion after any node\")\n",
    "llist.printList()"
   ]
  },
  {
   "cell_type": "code",
   "execution_count": null,
   "metadata": {},
   "outputs": [],
   "source": []
  },
  {
   "cell_type": "markdown",
   "metadata": {},
   "source": [
    "### 3.1 Deletion of a node in Linked List"
   ]
  },
  {
   "cell_type": "code",
   "execution_count": 3,
   "metadata": {},
   "outputs": [
    {
     "name": "stdout",
     "output_type": "stream",
     "text": [
      "Original Linked List\n",
      "12  8  9  10  14  16  \n",
      "Linked List after deletion\n",
      "12  8  9  10  16  "
     ]
    }
   ],
   "source": [
    "class Node:\n",
    "    def __init__(self, data):\n",
    "        self.data = data\n",
    "        self.next = None\n",
    "\n",
    "class LinkedList:\n",
    "    def __init__(self):\n",
    "        self.head = None\n",
    "    \n",
    "    ## insert at the end of the linked list\n",
    "    def insertAtEnd(self, new_data):\n",
    "        ## creation of the new node\n",
    "        new_node = Node(new_data)\n",
    "        \n",
    "        ## linked list is empty\n",
    "        if self.head is None:\n",
    "            self.head = new_node\n",
    "            return\n",
    "        \n",
    "        ## insertion at the end\n",
    "        temp = self.head\n",
    "        while temp.next:\n",
    "            temp = temp.next\n",
    "        \n",
    "        temp.next = new_node\n",
    "        \n",
    "    ## deleting a node inside the linked list\n",
    "    def deleteNode(self, pos):\n",
    "        ## linked list is empty or not\n",
    "        if self.head is None:\n",
    "            return\n",
    "        \n",
    "        temp = self.head\n",
    "        for i in range(pos-1):\n",
    "            temp = temp.next\n",
    "            if temp is None:\n",
    "                return\n",
    "        next_ptr = temp.next.next\n",
    "        temp.next = None\n",
    "        temp.next = next_ptr\n",
    "    \n",
    "    \n",
    "    ## print the linked list\n",
    "    def printList(self):\n",
    "        temp = self.head\n",
    "        while temp:\n",
    "            print(str(temp.data)+\" \",end=\" \")\n",
    "            temp = temp.next\n",
    "\n",
    "  \n",
    "            \n",
    "## Driver code\n",
    "llist = LinkedList()\n",
    "## function calling\n",
    "llist.insertAtEnd(12)\n",
    "llist.insertAtEnd(8)\n",
    "llist.insertAtEnd(9)\n",
    "llist.insertAtEnd(10)\n",
    "llist.insertAtEnd(14)\n",
    "llist.insertAtEnd(16)\n",
    "print(\"Original Linked List\")\n",
    "llist.printList()\n",
    "print()\n",
    "llist.deleteNode(4)\n",
    "print(\"Linked List after deletion\")\n",
    "llist.printList()"
   ]
  },
  {
   "cell_type": "code",
   "execution_count": null,
   "metadata": {},
   "outputs": [],
   "source": []
  },
  {
   "cell_type": "markdown",
   "metadata": {},
   "source": [
    "### 4.1 Searching of a node in Linked List"
   ]
  },
  {
   "cell_type": "code",
   "execution_count": 5,
   "metadata": {},
   "outputs": [
    {
     "name": "stdout",
     "output_type": "stream",
     "text": [
      "12  8  9  10  13  18  20  \n",
      "13 is found\n"
     ]
    }
   ],
   "source": [
    "## Time complexity for searching: O(n)\n",
    "\n",
    "class Node:\n",
    "    def __init__(self, data):\n",
    "        self.data = data\n",
    "        self.next = None\n",
    "\n",
    "class LinkedList:\n",
    "    def __init__(self):\n",
    "        self.head = None\n",
    "    \n",
    "    ## insert at the end of the linked list\n",
    "    def insertAtEnd(self, new_data):\n",
    "        ## creation of the new node\n",
    "        new_node = Node(new_data)\n",
    "        \n",
    "        ## linked list is empty\n",
    "        if self.head is None:\n",
    "            self.head = new_node\n",
    "            return\n",
    "        \n",
    "        ## insertion at the end\n",
    "        temp = self.head\n",
    "        while temp.next:\n",
    "            temp = temp.next\n",
    "        \n",
    "        temp.next = new_node\n",
    "        \n",
    "    ## searching inside the given linked list\n",
    "    def searchData(self, key):\n",
    "        temp = self.head\n",
    "        while temp:\n",
    "            if temp.data == key:\n",
    "                return True\n",
    "            temp = temp.next\n",
    "        return False\n",
    "    \n",
    "    ## print the linked list\n",
    "    def printList(self):\n",
    "        temp = self.head\n",
    "        while temp:\n",
    "            print(str(temp.data)+\" \",end=\" \")\n",
    "            temp = temp.next\n",
    "\n",
    "## Driver code\n",
    "llist = LinkedList()\n",
    "## function calling\n",
    "llist.insertAtEnd(12)\n",
    "llist.insertAtEnd(8)\n",
    "llist.insertAtEnd(9)\n",
    "llist.insertAtEnd(10)\n",
    "llist.insertAtEnd(13)\n",
    "llist.insertAtEnd(18)\n",
    "llist.insertAtEnd(20)\n",
    "llist.printList()\n",
    "print()\n",
    "## searching operation inside the linked list\n",
    "key = 13\n",
    "if(llist.searchData(key)):\n",
    "    print(str(key)+\" is found\")\n",
    "else:\n",
    "    print(str(key)+\" is not found\")\n"
   ]
  }
 ],
 "metadata": {
  "kernelspec": {
   "display_name": "base",
   "language": "python",
   "name": "python3"
  },
  "language_info": {
   "codemirror_mode": {
    "name": "ipython",
    "version": 3
   },
   "file_extension": ".py",
   "mimetype": "text/x-python",
   "name": "python",
   "nbconvert_exporter": "python",
   "pygments_lexer": "ipython3",
   "version": "3.10.9"
  },
  "orig_nbformat": 4
 },
 "nbformat": 4,
 "nbformat_minor": 2
}
