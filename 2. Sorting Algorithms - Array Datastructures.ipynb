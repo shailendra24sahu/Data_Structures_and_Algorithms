{
 "cells": [
  {
   "cell_type": "code",
   "execution_count": null,
   "metadata": {},
   "outputs": [],
   "source": []
  },
  {
   "cell_type": "markdown",
   "metadata": {},
   "source": [
    "### Comparison Sort - Bubble Sort "
   ]
  },
  {
   "cell_type": "code",
   "execution_count": 1,
   "metadata": {},
   "outputs": [
    {
     "name": "stdout",
     "output_type": "stream",
     "text": [
      "Array after applying bubble sort: [5, 15, 20, 30, 50, 70, 90]\n"
     ]
    }
   ],
   "source": [
    "## Method definition\n",
    "## Time Complexity : O(n^2)\n",
    "def bubbleSort(arr):\n",
    "    n = len(arr)\n",
    "    for i in range(n):\n",
    "        for j in range(0, n-i-1):  #since in each pass, number of elemets will reduce to sort\n",
    "            if arr[j] > arr[j+1]:\n",
    "                ##swap of the elements\n",
    "                arr[j], arr[j+1] = arr[j+1], arr[j]\n",
    "    return arr\n",
    "\n",
    "## Driver code\n",
    "arr = [70, 20, 50, 30, 90, 5, 15]\n",
    "result = bubbleSort(arr)\n",
    "print(\"Array after applying bubble sort:\", result)"
   ]
  },
  {
   "cell_type": "code",
   "execution_count": null,
   "metadata": {},
   "outputs": [],
   "source": []
  },
  {
   "cell_type": "markdown",
   "metadata": {},
   "source": [
    "### Comparison Sort - Selection Sort"
   ]
  },
  {
   "cell_type": "code",
   "execution_count": 2,
   "metadata": {},
   "outputs": [
    {
     "name": "stdout",
     "output_type": "stream",
     "text": [
      "Selection Sort of the given array elements is: [11, 17, 20, 29, 37, 38, 50, 75]\n"
     ]
    }
   ],
   "source": [
    "## Time Complexity : O(n^2)\n",
    "## Function Definition\n",
    "def selectionSort(arr):\n",
    "    n = len(arr)\n",
    "    for i in range(n):\n",
    "        ## to store the index of the minimum element\n",
    "        min_idx = i\n",
    "        for j in range(i+1, n):\n",
    "            if arr[j] < arr[min_idx]:\n",
    "                min_idx = j\n",
    "                \n",
    "        ## swap of the element at i and min_idx\n",
    "        arr[i], arr[min_idx] = arr[min_idx], arr[i]\n",
    "    \n",
    "    return arr\n",
    "## Driver code\n",
    "arr = [50, 38, 75, 29, 11, 17, 20, 37]\n",
    "## Function calling\n",
    "result = selectionSort(arr)\n",
    "print(\"Selection Sort of the given array elements is:\", result)"
   ]
  },
  {
   "cell_type": "code",
   "execution_count": null,
   "metadata": {},
   "outputs": [],
   "source": []
  },
  {
   "cell_type": "markdown",
   "metadata": {},
   "source": [
    "### Comparison Sort - Insertion Sort"
   ]
  },
  {
   "cell_type": "code",
   "execution_count": 3,
   "metadata": {},
   "outputs": [
    {
     "name": "stdout",
     "output_type": "stream",
     "text": [
      "Sorted array after applying the insertion sort is [1, 3, 4, 5, 9]\n"
     ]
    }
   ],
   "source": [
    "## function definition\n",
    "def insertionSort(arr):\n",
    "    for i in range(1, len(arr)):\n",
    "        key = arr[i]\n",
    "        j = i - 1\n",
    "        \n",
    "        while j >= 0 and key < arr[j]:\n",
    "            arr[j+1] = arr[j]\n",
    "            j = j - 1\n",
    "        \n",
    "        arr[j+1] = key\n",
    "    return arr\n",
    "\n",
    "## Driver code\n",
    "arr = [9, 5, 1, 4, 3]\n",
    "## function calling\n",
    "result = insertionSort(arr)\n",
    "print(\"Sorted array after applying the insertion sort is\", result)"
   ]
  },
  {
   "cell_type": "code",
   "execution_count": null,
   "metadata": {},
   "outputs": [],
   "source": []
  },
  {
   "cell_type": "markdown",
   "metadata": {},
   "source": [
    "### Q. Best Time to Buy and Sell Stock"
   ]
  },
  {
   "cell_type": "code",
   "execution_count": 4,
   "metadata": {},
   "outputs": [
    {
     "name": "stdout",
     "output_type": "stream",
     "text": [
      "The maximum profit of buy and sell the stock is: 17\n"
     ]
    }
   ],
   "source": [
    "## function definition\n",
    "## Time complexity: O(n)\n",
    "## Space complexity: O(1)\n",
    "def findmaxProfit(prices):\n",
    "    min_price = float('inf')\n",
    "    max_profit = 0\n",
    "    \n",
    "    for i in range(len(prices)):\n",
    "        if prices[i] < min_price:\n",
    "            min_price = prices[i]\n",
    "        elif prices[i] - min_price > max_profit:\n",
    "            max_profit = prices[i] - min_price\n",
    "    return max_profit\n",
    "\n",
    "## Driver code \n",
    "prices = [7,5,3,6,4,15,20]\n",
    "## function calling\n",
    "maxProfit = findmaxProfit(prices)\n",
    "print(\"The maximum profit of buy and sell the stock is:\", maxProfit)"
   ]
  },
  {
   "cell_type": "code",
   "execution_count": null,
   "metadata": {},
   "outputs": [],
   "source": []
  },
  {
   "cell_type": "markdown",
   "metadata": {},
   "source": [
    "### Collinear Points"
   ]
  },
  {
   "cell_type": "code",
   "execution_count": 5,
   "metadata": {},
   "outputs": [
    {
     "name": "stdout",
     "output_type": "stream",
     "text": [
      "Given points are non-collinear\n"
     ]
    }
   ],
   "source": [
    "## Approach 1: Using slope concept\n",
    "## TC: O(1)\n",
    "## SC: O(1)\n",
    "## Method definition\n",
    "def iscollinearPoints(x1, x2, x3, y1, y2, y3):\n",
    "    if((y2 - y1)*(x3 - x2) == (y3 - y2)*(x2 - x1)):\n",
    "        print(\"Given points are collinear\")\n",
    "    else:\n",
    "        print(\"Given points are non-collinear\")\n",
    "\n",
    "## Driver code\n",
    "x1, x2, x3, y1, y2, y3 = 1, 2, 3, 6, 0, 9\n",
    "iscollinearPoints(x1, x2, x3, y1, y2, y3)"
   ]
  },
  {
   "cell_type": "code",
   "execution_count": 6,
   "metadata": {},
   "outputs": [
    {
     "name": "stdout",
     "output_type": "stream",
     "text": [
      "Given points are collinear\n"
     ]
    }
   ],
   "source": [
    "## Approach 2: Using area of triangle\n",
    "## TC: O(1)\n",
    "## SC: O(1)\n",
    "def iscollinearPoints(x1, x2, x3, y1, y2, y3):\n",
    "    area = 0.5 * (x1 * (y2 - y3) + x2 * (y3 - y1) + x3 * (y1 - y2))\n",
    "    if area == 0:\n",
    "        print(\"Given points are collinear\")\n",
    "    else:\n",
    "        print(\"Given points are non-collinear\")\n",
    "        \n",
    "## Driver code\n",
    "x1, x2, x3, y1, y2, y3 = 1, 1, 1, 6, 0, 9\n",
    "iscollinearPoints(x1, x2, x3, y1, y2, y3)"
   ]
  },
  {
   "cell_type": "code",
   "execution_count": null,
   "metadata": {},
   "outputs": [],
   "source": []
  },
  {
   "cell_type": "markdown",
   "metadata": {},
   "source": [
    "### Majority Element"
   ]
  },
  {
   "cell_type": "code",
   "execution_count": 7,
   "metadata": {},
   "outputs": [
    {
     "name": "stdout",
     "output_type": "stream",
     "text": [
      "Counter({2: 4, 1: 3})\n",
      "Majority Element in an array is: 2\n"
     ]
    }
   ],
   "source": [
    "## Approach 2 - Dictionary Data Structure\n",
    "## TC - O(n)\n",
    "## SC - O(n)\n",
    "from collections import Counter\n",
    "## Method definition\n",
    "def majorityElement(nums):\n",
    "    counts = Counter(nums)\n",
    "    print(counts)\n",
    "    return max(counts.keys(), key = counts.get)\n",
    "\n",
    "## Driver code\n",
    "nums = [2, 2, 1, 1, 1, 2, 2]\n",
    "result = majorityElement(nums)\n",
    "print('Majority Element in an array is:',result)"
   ]
  },
  {
   "cell_type": "code",
   "execution_count": 8,
   "metadata": {},
   "outputs": [
    {
     "name": "stdout",
     "output_type": "stream",
     "text": [
      "Counter({2: 4, 1: 3})\n",
      "Majority Element in an array is: 2\n"
     ]
    }
   ],
   "source": [
    "## Approach 2 - Dictionary Data Structure\n",
    "## TC - O(n)\n",
    "## SC - O(n)\n",
    "from collections import Counter\n",
    "## Method definition\n",
    "def majorityElement(nums):\n",
    "    counts = Counter(nums)\n",
    "    print(counts)\n",
    "    return max(counts.keys())\n",
    "\n",
    "## Driver code\n",
    "nums = [2, 2, 1, 1, 1, 2, 2]\n",
    "result = majorityElement(nums)\n",
    "print('Majority Element in an array is:',result)"
   ]
  },
  {
   "cell_type": "markdown",
   "metadata": {},
   "source": [
    "### Boyer Moore Voting Algorithm - for Majority element"
   ]
  },
  {
   "cell_type": "code",
   "execution_count": 9,
   "metadata": {},
   "outputs": [
    {
     "name": "stdout",
     "output_type": "stream",
     "text": [
      "Majority Element in an array is 2\n"
     ]
    }
   ],
   "source": [
    "## Approach 3 - Boyer Moore Voting Algorithm\n",
    "## TC - O(n)\n",
    "## SC - O(1)\n",
    "## Method definition of findCandidate\n",
    "def findCandidate(nums):\n",
    "    count = 0\n",
    "    candidate = None\n",
    "    for num in nums:\n",
    "        if count == 0:\n",
    "            candidate = num\n",
    "        count += (1 if num == candidate else -1)\n",
    "    return candidate\n",
    "\n",
    "## Method definition of isMajority\n",
    "def isMajority(nums, candidate):\n",
    "    cnt = 0\n",
    "    n = len(nums)\n",
    "    for i in range(n):\n",
    "        if nums[i] == candidate:\n",
    "            cnt += 1\n",
    "    if cnt > n/2:\n",
    "        return 1\n",
    "    else:\n",
    "        return 0\n",
    "    \n",
    "    \n",
    "## Method definition of printmajorityElement\n",
    "def printmajorityElement(nums):\n",
    "    cand = findCandidate(nums)\n",
    "    if isMajority(nums, cand):\n",
    "        print(\"Majority Element in an array is\", cand)\n",
    "    else:\n",
    "        print(\"No majority element exists in an array\")\n",
    "   \n",
    "\n",
    "## Driver code\n",
    "nums = [2, 2, 1, 1, 1, 2, 2]\n",
    "# nums = [2, 2, 7, 3, 4]\n",
    "printmajorityElement(nums)"
   ]
  },
  {
   "cell_type": "code",
   "execution_count": null,
   "metadata": {},
   "outputs": [],
   "source": []
  },
  {
   "cell_type": "markdown",
   "metadata": {},
   "source": [
    "### Sort Colors"
   ]
  },
  {
   "cell_type": "code",
   "execution_count": 10,
   "metadata": {},
   "outputs": [
    {
     "name": "stdout",
     "output_type": "stream",
     "text": [
      "[0, 0, 1, 1, 2, 2]\n"
     ]
    }
   ],
   "source": [
    "## Time Complexity : O(n)\n",
    "## Space Complexity: O(1)\n",
    "## Method definition of sort colors\n",
    "def sortColors(nums):\n",
    "    p0 = curr = 0\n",
    "    p2 = len(nums) - 1\n",
    "    \n",
    "    while curr <= p2:\n",
    "        if nums[curr] == 0:\n",
    "            ## swap nums[curr] and nums[p0]\n",
    "            nums[p0], nums[curr] = nums[curr], nums[p0]\n",
    "            p0 += 1\n",
    "            curr += 1\n",
    "        elif nums[curr] == 2:\n",
    "            ## swap nums[curr] and nums[p2]\n",
    "            nums[p2], nums[curr] = nums[curr], nums[p2]\n",
    "            p2 -= 1\n",
    "        else:\n",
    "            curr += 1\n",
    "    return nums\n",
    "\n",
    "## Driver code\n",
    "nums = [0, 2, 1, 1, 0, 2]\n",
    "result = sortColors(nums)\n",
    "print(result)"
   ]
  }
 ],
 "metadata": {
  "kernelspec": {
   "display_name": "base",
   "language": "python",
   "name": "python3"
  },
  "language_info": {
   "codemirror_mode": {
    "name": "ipython",
    "version": 3
   },
   "file_extension": ".py",
   "mimetype": "text/x-python",
   "name": "python",
   "nbconvert_exporter": "python",
   "pygments_lexer": "ipython3",
   "version": "3.10.9"
  },
  "orig_nbformat": 4
 },
 "nbformat": 4,
 "nbformat_minor": 2
}
